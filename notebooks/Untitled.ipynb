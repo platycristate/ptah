{
 "cells": [
  {
   "cell_type": "code",
   "execution_count": 3,
   "id": "brief-vancouver",
   "metadata": {},
   "outputs": [],
   "source": [
    "import pandas as pd\n",
    "import matplotlib.pyplot as plt\n",
    "import numpy as np\n",
    "import re\n",
    "import spacy\n",
    "import pickle\n",
    "import time\n",
    "from collections import defaultdict\n",
    "import sys\n",
    "sys.path.append(\"../scripts/\")\n",
    "import pmi_tfidf_classifier as ptic\n",
    "path = \"../data/\"\n",
    "\n",
    "np.random.seed(250)"
   ]
  },
  {
   "cell_type": "code",
   "execution_count": 4,
   "id": "together-trigger",
   "metadata": {},
   "outputs": [],
   "source": [
    "data_raw = pd.read_csv(path + 'DILI_data.csv')\n",
    "indices = np.random.permutation(data_raw.index)\n",
    "data = data_raw.loc[indices]\n",
    "data = data_raw.sample(frac=1)\n",
    "idx = int(data.shape[0] * 0.2)\n",
    "test_data = data.iloc[:idx]\n",
    "train_data = data.iloc[idx:]\n",
    "targets_train = train_data['Label'].values\n",
    "targets_test = test_data['Label'].values"
   ]
  },
  {
   "cell_type": "code",
   "execution_count": 5,
   "id": "stretch-freedom",
   "metadata": {},
   "outputs": [
    {
     "name": "stdout",
     "output_type": "stream",
     "text": [
      "Tokenization....\n",
      "Tokenization....\n"
     ]
    }
   ],
   "source": [
    "tokenized_texts = ptic.tokenization(train_data)\n",
    "tokenized_test_texts = ptic.tokenization(test_data)"
   ]
  },
  {
   "cell_type": "code",
   "execution_count": 6,
   "id": "instructional-friend",
   "metadata": {},
   "outputs": [],
   "source": [
    "N = len(tokenized_texts)\n",
    "accuracies = []\n",
    "precisions = []\n",
    "recalls = []\n",
    "F1s = []"
   ]
  },
  {
   "cell_type": "code",
   "execution_count": null,
   "id": "mathematical-photograph",
   "metadata": {},
   "outputs": [],
   "source": [
    "dict_size = [i for i in range(0.02, 1, 0.01)]\n",
    "for i in dict_size:\n",
    "    part = tokenized_texts[:int(N * i)]\n",
    "    word2text_count = ptic.get_word_stat(part)\n",
    "    words_pmis = ptic.create_pmi_dict(part, targets_train, min_count=20)\n",
    "\n",
    "    results = ptic.classify_pmi_based(words_pmis, word2text_count, tokenized_test_texts, N)\n",
    "\n",
    "    precision = np.sum( np.logical_and(results, targets_test) ) / np.sum(results)\n",
    "    recall = np.sum( np.logical_and(results, targets_test) ) / np.sum(targets_test)\n",
    "    F1 = 2 * (recall * precision)/(recall + precision)\n",
    "\n",
    "    accuracy = (results == targets_test).mean()\n",
    "    accuracies.append( accuracy )\n",
    "    precisions.append( precisions )\n",
    "    recalls.append( recall )"
   ]
  }
 ],
 "metadata": {
  "kernelspec": {
   "display_name": "Python 3",
   "language": "python",
   "name": "python3"
  },
  "language_info": {
   "codemirror_mode": {
    "name": "ipython",
    "version": 3
   },
   "file_extension": ".py",
   "mimetype": "text/x-python",
   "name": "python",
   "nbconvert_exporter": "python",
   "pygments_lexer": "ipython3",
   "version": "3.8.5"
  }
 },
 "nbformat": 4,
 "nbformat_minor": 5
}
